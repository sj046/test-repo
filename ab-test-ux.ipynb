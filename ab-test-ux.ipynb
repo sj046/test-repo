{
 "cells": [
  {
   "cell_type": "markdown",
   "metadata": {},
   "source": [
    "# A/B Python Tutorial"
   ]
  },
  {
   "cell_type": "code",
   "execution_count": 1,
   "metadata": {},
   "outputs": [],
   "source": [
    "import scipy.stats as stats"
   ]
  },
  {
   "cell_type": "markdown",
   "metadata": {},
   "source": [
    "## Introduction\n",
    "\n",
    "- In this application, we cover the topic of A/B testing for a online site which tries to increase the amount of users that sign up for a premium account. \n",
    "- The goal of running an A/B test is to evaluate if a change in the user interface of the website will lead to an improved conversion rate. \n",
    "\n",
    "In our example, we test the changes in conversion rates associated with the different colors of a button. \n",
    "\n",
    "**Outline for A/B Tests**\n",
    "\n",
    "- Set up the experiment.\n",
    "- Choose the right statistical test (usually binomial test)\n",
    "- Run the test and calculate the statistical significance of the difference between conditions A and B."
   ]
  },
  {
   "cell_type": "markdown",
   "metadata": {},
   "source": [
    "## Baseline conversion rate is available\n",
    "\n",
    "Assume that before running the test, we already know the baseline conversion rate (this is our control group \"A\" result). The baseline conversion rate is the current rate at which we sign up new users under the existing design. Suppose we currently use a red button on our website and sign up 90 out of 1000 users who are offered a premium account\n",
    "\n",
    "- Condition A (control group): red button\n",
    "- Baseline conversion rate: 9% (90/1000).\n",
    "\n",
    "Suppose we now change the color of our sign up botton to green and measure the outcome. We get the following results:\n",
    "\n",
    "- Condition B (test group): green button\n",
    "- Users on our site: 1000\n",
    "- Users who signed up: 106\n",
    "- Conversion rate: 10.6%\n",
    "\n",
    "To determine wether the 1.6% increase in conversion rate is statistically significant, we need to perform a statistical test. Since we already know the basline conversion rate, we can use the binomialtest. Optional further information: Review the [SciPy documention about binomialtests](https://docs.scipy.org/doc/scipy/reference/generated/scipy.stats.binom_test.html) for more information about the test. Note that we always use a two-sided test in A/B-Testing since the estimated value may be more than or less than the reference value. \n",
    "\n",
    "- Null hypothesis ($H_0)$: there is no difference between the two conversion rates\n",
    "- Alternative hypothesis ($H_1)$: there is a difference between the two conversion rates\n"
   ]
  },
  {
   "cell_type": "code",
   "execution_count": 5,
   "metadata": {},
   "outputs": [
    {
     "data": {
      "text/plain": [
       "0.08638821078879608"
      ]
     },
     "execution_count": 5,
     "metadata": {},
     "output_type": "execute_result"
    }
   ],
   "source": [
    "stats.binom_test(106, n=1000, p=0.09, alternative='two-sided')"
   ]
  },
  {
   "cell_type": "markdown",
   "metadata": {},
   "source": [
    "The null hypothesis cannot be rejected at the 5% level of significance because the returned p-value of 0.086 is greater than the critical value of 5%.\n",
    "\n",
    "**Different results**\n",
    "\n",
    "Now, suppose that instead of 106 sign ups, we only received 70 in condition B. Everything else remains the same. "
   ]
  },
  {
   "cell_type": "code",
   "execution_count": 4,
   "metadata": {},
   "outputs": [
    {
     "data": {
      "text/plain": [
       "0.026919752379179443"
      ]
     },
     "execution_count": 4,
     "metadata": {},
     "output_type": "execute_result"
    }
   ],
   "source": [
    "stats.binom_test(70, n=1000, p=0.09, alternative='two-sided')"
   ]
  },
  {
   "cell_type": "markdown",
   "metadata": {},
   "source": [
    "In this case the null hypothesis can be rejected at the 5% level of significance because the returned p-value of 0.0269 is smaller than the critical value of 5%. However, note that the conversion rate in condition A is actually higher then in condition B which means we should not change the color of our button from red to green."
   ]
  }
 ],
 "metadata": {
  "interpreter": {
   "hash": "463226f144cc21b006ce6927bfc93dd00694e52c8bc6857abb6e555b983749e9"
  },
  "kernelspec": {
   "display_name": "Python 3.8.2 64-bit ('base': conda)",
   "name": "python3"
  },
  "language_info": {
   "codemirror_mode": {
    "name": "ipython",
    "version": 3
   },
   "file_extension": ".py",
   "mimetype": "text/x-python",
   "name": "python",
   "nbconvert_exporter": "python",
   "pygments_lexer": "ipython3",
   "version": "3.9.7"
  },
  "toc": {
   "base_numbering": 1,
   "nav_menu": {},
   "number_sections": true,
   "sideBar": true,
   "skip_h1_title": true,
   "title_cell": "Table of Contents",
   "title_sidebar": "Contents",
   "toc_cell": true,
   "toc_position": {},
   "toc_section_display": true,
   "toc_window_display": false
  },
  "varInspector": {
   "cols": {
    "lenName": 16,
    "lenType": 16,
    "lenVar": 40
   },
   "kernels_config": {
    "python": {
     "delete_cmd_postfix": "",
     "delete_cmd_prefix": "del ",
     "library": "var_list.py",
     "varRefreshCmd": "print(var_dic_list())"
    },
    "r": {
     "delete_cmd_postfix": ") ",
     "delete_cmd_prefix": "rm(",
     "library": "var_list.r",
     "varRefreshCmd": "cat(var_dic_list()) "
    }
   },
   "types_to_exclude": [
    "module",
    "function",
    "builtin_function_or_method",
    "instance",
    "_Feature"
   ],
   "window_display": false
  }
 },
 "nbformat": 4,
 "nbformat_minor": 2
}
